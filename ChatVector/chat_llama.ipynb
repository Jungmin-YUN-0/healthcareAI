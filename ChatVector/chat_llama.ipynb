{
 "cells": [
  {
   "cell_type": "code",
   "execution_count": 10,
   "metadata": {},
   "outputs": [],
   "source": [
    "import os\n",
    "os.environ[\"CUDA_VISIBLE_DEVICES\"] = \"0\"\n",
    "import time\n",
    "\n",
    "import torch\n",
    "from transformers import (AutoModelForCausalLM, AutoTokenizer,\n",
    "                          pipeline)\n",
    "\n",
    "\n",
    "def get_pipeline(path, tokenizer):\n",
    "    model = AutoModelForCausalLM.from_pretrained(\n",
    "        path,\n",
    "        torch_dtype=torch.float16,\n",
    "        device_map='cuda',\n",
    "        trust_remote_code=True)\n",
    "\n",
    "    print('Model loaded')\n",
    "\n",
    "    generator = pipeline(\"text-generation\",\n",
    "                         model=model,\n",
    "                         tokenizer=tokenizer,\n",
    "                         pad_token_id=tokenizer.pad_token_id,\n",
    "                         eos_token_id=[tokenizer.eos_token_id, 128001]\n",
    "                         )\n",
    "    return generator\n"
   ]
  },
  {
   "cell_type": "code",
   "execution_count": 11,
   "metadata": {},
   "outputs": [
    {
     "name": "stderr",
     "output_type": "stream",
     "text": [
      "Special tokens have been added in the vocabulary, make sure the associated word embeddings are fine-tuned or trained.\n"
     ]
    },
    {
     "name": "stdout",
     "output_type": "stream",
     "text": [
      "bos_token: <|begin_of_text|>\n",
      "bos_token_id: 128000\n",
      "eos_token: <|end_of_text|>\n",
      "eos_token_id: 128001\n"
     ]
    }
   ],
   "source": [
    "SYS_PROMPT = \"You are a medical expert AI. Provide accurate and professional information to patients' questions or requests. AI is not a real doctor, so it cannot directly treat. In such cases, recommend a related specialized department so that the patient can receive appropriate treatment. Use a natural and friendly tone in your responses, and answer simply and clearly.\"\n",
    "model_path = \"aaditya/Llama3-OpenBioLLM-8B\"\n",
    "max_new_tokens = 512\n",
    "\n",
    "tokenizer = AutoTokenizer.from_pretrained(model_path)\n",
    "\n",
    "tokenizer.pad_token = tokenizer.eos_token\n",
    "tokenizer.pad_token_id = tokenizer.eos_token_id\n",
    "print('bos_token:', tokenizer.bos_token)\n",
    "print('bos_token_id:', tokenizer.bos_token_id)\n",
    "print('eos_token:', tokenizer.eos_token)\n",
    "print('eos_token_id:', tokenizer.eos_token_id)"
   ]
  },
  {
   "cell_type": "code",
   "execution_count": 12,
   "metadata": {},
   "outputs": [
    {
     "data": {
      "application/vnd.jupyter.widget-view+json": {
       "model_id": "c475543d20b84edfaa9be86450e3f332",
       "version_major": 2,
       "version_minor": 0
      },
      "text/plain": [
       "Loading checkpoint shards:   0%|          | 0/4 [00:00<?, ?it/s]"
      ]
     },
     "metadata": {},
     "output_type": "display_data"
    },
    {
     "name": "stdout",
     "output_type": "stream",
     "text": [
      "Model loaded\n"
     ]
    }
   ],
   "source": [
    "pipe = get_pipeline(model_path, tokenizer)\n"
   ]
  },
  {
   "cell_type": "code",
   "execution_count": 20,
   "metadata": {},
   "outputs": [],
   "source": [
    "messages = []\n",
    "if SYS_PROMPT is not None:\n",
    "    messages.append({\"role\": 'system', 'content': SYS_PROMPT})"
   ]
  },
  {
   "cell_type": "code",
   "execution_count": 21,
   "metadata": {},
   "outputs": [],
   "source": [
    "input_ = \"\"\"\n",
    "[Patient's Message]\n",
    "My eyes are blurry.\n",
    "\n",
    "[Request]\n",
    "Ask brief questions one at a time to infer the suspected disease based on the patient's symptoms. After asking less than five questions, infer the possible disease based on the information collected.\n",
    "\"\"\"\n",
    "\n",
    "messages.append({'role': 'user', 'content': input_})"
   ]
  },
  {
   "cell_type": "code",
   "execution_count": 22,
   "metadata": {},
   "outputs": [
    {
     "name": "stdout",
     "output_type": "stream",
     "text": [
      "\u001b[92msystem:  You are a medical expert AI. Provide accurate and professional information to patients' questions or requests. AI is not a real doctor, so it cannot directly treat. In such cases, recommend a related specialized department so that the patient can receive appropriate treatment. Use a natural and friendly tone in your responses, and answer simply and clearly.\n",
      "\u001b[93mUser: \n",
      "[Patient's Message]\n",
      "My eyes are blurry.\n",
      "\n",
      "[Request]\n",
      "Ask brief questions one at a time to infer the suspected disease based on the patient's symptoms. After asking less than five questions, infer the possible disease based on the information collected.\n",
      "\n"
     ]
    }
   ],
   "source": [
    "for m in messages[:-1]:\n",
    "    print('\\033[92m' + m['role'] + ': ', m['content'])\n",
    "print('\\033[93m' + 'User: ' + input_)"
   ]
  },
  {
   "cell_type": "code",
   "execution_count": 23,
   "metadata": {},
   "outputs": [
    {
     "name": "stdout",
     "output_type": "stream",
     "text": [
      "\u001b[95mAssistant: I'm sorry to hear that your eyes are blurry. To better understand your situation, I have a few questions for you. Have you experienced any pain or discomfort in your eyes? Do you have a history of eye conditions or have you been exposed to any irritants recently?\n"
     ]
    }
   ],
   "source": [
    "text = pipe.tokenizer.apply_chat_template(\n",
    "            messages, add_generation_prompt=True, tokenize=False)\n",
    "result = pipe(text,\n",
    "                return_full_text=False,\n",
    "                clean_up_tokenization_spaces=True,\n",
    "                max_new_tokens=512,\n",
    "                do_sample=False)[0]['generated_text']\n",
    "\n",
    "messages.append({'role': 'assistant', 'content': result})\n",
    "print('\\033[95m' + 'Assistant: ' + result)"
   ]
  },
  {
   "cell_type": "code",
   "execution_count": 24,
   "metadata": {},
   "outputs": [
    {
     "name": "stdout",
     "output_type": "stream",
     "text": [
      "\u001b[95mAssistant: Based on your symptoms of blurry vision without pain or discomfort, and no history of eye conditions or recent exposure to irritants, it is possible that you are experiencing a refractive error such as nearsightedness, farsightedness, or astigmatism. These conditions can cause blurry vision when the shape of the eye does not properly focus light onto the retina. I would recommend scheduling an eye examination with an optometrist or ophthalmologist to get a proper diagnosis and discuss treatment options.\n"
     ]
    }
   ],
   "source": [
    "input_ = \"\"\"\n",
    "[Patient's Message]\n",
    "There is no pain, just light glares. I have no history of eye disease or recent exposure to irritants.\n",
    "\n",
    "[Request]\n",
    "Ask brief questions one at a time to infer the suspected disease based on the patient's symptoms. After asking less than five questions, infer the possible disease based on the information collected.\n",
    "\"\"\"\n",
    "\n",
    "messages.append({'role': 'user', 'content': input_})\n",
    "\n",
    "text = pipe.tokenizer.apply_chat_template(\n",
    "            messages, add_generation_prompt=True, tokenize=False)\n",
    "result = pipe(text,\n",
    "                return_full_text=False,\n",
    "                clean_up_tokenization_spaces=True,\n",
    "                max_new_tokens=512,\n",
    "                do_sample=False)[0]['generated_text']\n",
    "\n",
    "messages.append({'role': 'assistant', 'content': result})\n",
    "print('\\033[95m' + 'Assistant: ' + result)"
   ]
  }
 ],
 "metadata": {
  "kernelspec": {
   "display_name": "rapa",
   "language": "python",
   "name": "python3"
  },
  "language_info": {
   "codemirror_mode": {
    "name": "ipython",
    "version": 3
   },
   "file_extension": ".py",
   "mimetype": "text/x-python",
   "name": "python",
   "nbconvert_exporter": "python",
   "pygments_lexer": "ipython3",
   "version": "3.8.19"
  }
 },
 "nbformat": 4,
 "nbformat_minor": 2
}
