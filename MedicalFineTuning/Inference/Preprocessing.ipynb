{
 "cells": [
  {
   "cell_type": "markdown",
   "id": "f76f78e9",
   "metadata": {},
   "source": [
    "# Preprocessing\n"
   ]
  },
  {
   "cell_type": "code",
   "execution_count": 25,
   "id": "d16b00d4",
   "metadata": {},
   "outputs": [],
   "source": [
    "from datasets import load_dataset\n",
    "import pandas as pd\n",
    "from datasets import concatenate_datasets, DatasetDict"
   ]
  },
  {
   "cell_type": "markdown",
   "id": "b434c29c",
   "metadata": {},
   "source": [
    "### Dialogue Dataset"
   ]
  },
  {
   "cell_type": "code",
   "execution_count": 16,
   "id": "5c915323",
   "metadata": {},
   "outputs": [
    {
     "data": {
      "text/plain": [
       "DatasetDict({\n",
       "    train: Dataset({\n",
       "        features: ['id', 'conversations'],\n",
       "        num_rows: 3038\n",
       "    })\n",
       "})"
      ]
     },
     "execution_count": 16,
     "metadata": {},
     "output_type": "execute_result"
    }
   ],
   "source": [
    "ds = load_dataset(\"squarelike/ko_medical_chat\")\n",
    "ds"
   ]
  },
  {
   "cell_type": "code",
   "execution_count": 17,
   "id": "65518ac0",
   "metadata": {},
   "outputs": [
    {
     "data": {
      "text/plain": [
       "[{'from': 'client',\n",
       "  'value': '안녕하세요, 의사님. 오늘 아침에 일어나서 의자에 앉아 있을 때 방 전체가 돌아가는 것 같은 느낌이 들었어요.'},\n",
       " {'from': 'doctor', 'value': '그런 증상이 있으셨군요. 이동할 때만 돌아가는 건가요?'},\n",
       " {'from': 'client', 'value': '네, 제가 움직이려고 하면 세상 전체가 돌아가는 것 같아요.'},\n",
       " {'from': 'doctor',\n",
       "  'value': '그렇군요. 그리고 오전에 화장실에 가실 때 불안정하게 걸으셨다고 하셨는데, 그때 어떤 증상이 있었나요?'},\n",
       " {'from': 'client', 'value': '집중하기가 어려웠고, 메스꺼움을 느꼈어요. 구토를 시도했지만 나오지 않았어요.'},\n",
       " {'from': 'doctor', 'value': '그러셨군요. 그리고 복통도 있으셨다고 하셨는데, 어떤 종류의 복통이었나요?'},\n",
       " {'from': 'client',\n",
       "  'value': '그냥 일반적인 복부 불쾌감이었어요. 하지만 방금 화장실에 갔다 온 후에는 돌아가는 증상이 완화되었어요.'},\n",
       " {'from': 'doctor', 'value': '감사합니다. 이 증상은 어제부터 있었나요?'},\n",
       " {'from': 'client', 'value': '아니요, 오늘 아침 처음으로 느껴졌어요.'},\n",
       " {'from': 'doctor',\n",
       "  'value': '이해했습니다. 가장 가능성이 높은 원인은 양성돌발성 위치성 현훈(BPPV)입니다. 이 질환은 귀에서 발생하는 문제로 인해 발생하며, 몇 일 안에 스스로 호전됩니다. 베타히스틴 알약을 복용하면 증상이 완화될 것입니다. 전정 재활이나 적응 운동을 하면 증상의 재발을 예방할 수 있습니다. 이런 증상을 평가해 줄 이비인후과 전문의의 진료도 도'},\n",
       " {'from': 'doctor', 'value': '도움이 될 것입니다. 최선을 다하겠습니다. 어떻게 대처해야 할지 궁금하신가요?'},\n",
       " {'from': 'client', 'value': '그럼 어떻게 대처해야 할까요?'},\n",
       " {'from': 'doctor',\n",
       "  'value': '베타히스틴 알약을 정해진 용량과 시간에 복용하시면 도움이 될 것입니다. 또한 전정 재활 운동을 시도해보시는 것도 좋습니다. 이비인후과 전문의의 진료를 받아보는 것도 도움이 될 수 있습니다. 어떤 대처 방법을 선택하시겠습니까?'},\n",
       " {'from': 'client',\n",
       "  'value': '알겠습니다. 베타히스틴 알약과 전정 재활 운동을 시도해보겠습니다. 그리고 이비인후과 전문의의 진료도 받아보고 싶습니다.'},\n",
       " {'from': 'doctor',\n",
       "  'value': '좋습니다. 그렇게 하시면 증상의 호전을 기대할 수 있습니다. 이비인후과 전문의의 진료 일정을 예약하시고, 처방전을 받으시면 됩니다. 어떤 질문이 더 있으신가요?'},\n",
       " {'from': 'client', 'value': '아니요, 의사님. 감사합니다.'}]"
      ]
     },
     "execution_count": 17,
     "metadata": {},
     "output_type": "execute_result"
    }
   ],
   "source": [
    "ds['train']['conversations'][0]"
   ]
  },
  {
   "cell_type": "code",
   "execution_count": 18,
   "id": "21abfc05",
   "metadata": {},
   "outputs": [],
   "source": [
    "import random\n",
    "\n",
    "def build_client_doctor_context(example):\n",
    "    conv = example[\"conversations\"]\n",
    "    # client turn 인덱스 추출\n",
    "    client_indices = [i for i, turn in enumerate(conv) if turn[\"from\"] == \"client\"]\n",
    "    # client turn이 2개 이상 있어야 함 (마지막 client 제외)\n",
    "    if len(client_indices) < 2:\n",
    "        return None\n",
    "\n",
    "    # n: 마지막 client turn을 제외한 범위에서 랜덤 선택\n",
    "    n = random.randint(1, len(client_indices) - 1)\n",
    "    nth_client_idx = client_indices[n - 1]\n",
    "\n",
    "    # context: 0 ~ nth_client_idx까지의 대화 누적\n",
    "    context = []\n",
    "    for turn in conv[:nth_client_idx + 1]:\n",
    "        context.append({\"from\": turn[\"from\"], \"value\": turn[\"value\"]})\n",
    "\n",
    "    # answer: 다음 doctor의 응답 찾기\n",
    "    answer = None\n",
    "    for turn in conv[nth_client_idx + 1:]:\n",
    "        if turn[\"from\"] == \"doctor\":\n",
    "            answer = turn[\"value\"]\n",
    "            break\n",
    "\n",
    "    if answer is None:\n",
    "        return None\n",
    "\n",
    "    return {\n",
    "        \"context\": context,\n",
    "        \"answer\": answer\n",
    "    }\n"
   ]
  },
  {
   "cell_type": "code",
   "execution_count": 19,
   "id": "4765feec",
   "metadata": {},
   "outputs": [
    {
     "data": {
      "text/plain": [
       "Dataset({\n",
       "    features: ['id', 'conversations', 'context', 'answer'],\n",
       "    num_rows: 3020\n",
       "})"
      ]
     },
     "execution_count": 19,
     "metadata": {},
     "output_type": "execute_result"
    }
   ],
   "source": [
    "# 예시 적용 (ds['train'] 기준)\n",
    "restructured = ds['train'].map(build_client_doctor_context)\n",
    "# None 값 제거\n",
    "restructured = restructured.filter(lambda x: x is not None)\n",
    "restructured"
   ]
  },
  {
   "cell_type": "code",
   "execution_count": 32,
   "id": "a8ca044f",
   "metadata": {},
   "outputs": [
    {
     "data": {
      "text/plain": [
       "[{'from': 'client',\n",
       "  'value': '안녕하세요, 의사님. 오늘 아침에 일어나서 의자에 앉아 있을 때 방 전체가 돌아가는 것 같은 느낌이 들었어요.'},\n",
       " {'from': 'doctor', 'value': '그런 증상이 있으셨군요. 이동할 때만 돌아가는 건가요?'},\n",
       " {'from': 'client', 'value': '네, 제가 움직이려고 하면 세상 전체가 돌아가는 것 같아요.'}]"
      ]
     },
     "execution_count": 32,
     "metadata": {},
     "output_type": "execute_result"
    }
   ],
   "source": [
    "restructured['context'][0]"
   ]
  },
  {
   "cell_type": "code",
   "execution_count": 33,
   "id": "dc9502e9",
   "metadata": {},
   "outputs": [
    {
     "data": {
      "application/vnd.jupyter.widget-view+json": {
       "model_id": "da9b58b6322e4b34b6b4551eb7dff6aa",
       "version_major": 2,
       "version_minor": 0
      },
      "text/plain": [
       "Saving the dataset (0/1 shards):   0%|          | 0/3020 [00:00<?, ? examples/s]"
      ]
     },
     "metadata": {},
     "output_type": "display_data"
    }
   ],
   "source": [
    "restructured.save_to_disk(\"/home/jungmin/workspace/project/rapa/data/dialogue_koMedicalChat_preprocessed\") ## QA / Dialogue 데이터셋 모두 저장"
   ]
  },
  {
   "cell_type": "markdown",
   "id": "b0ddf2d2",
   "metadata": {},
   "source": [
    "### QA Dataset"
   ]
  },
  {
   "cell_type": "code",
   "execution_count": null,
   "id": "18b23b2e",
   "metadata": {},
   "outputs": [],
   "source": [
    "dentist = load_dataset(\"sean0042/KorMedMCQA\", 'dentist') # 추가 전처리 필요\n",
    "doctor = load_dataset(\"sean0042/KorMedMCQA\", 'doctor') # 추가 전처리 필요\n",
    "nurse = load_dataset(\"sean0042/KorMedMCQA\", 'nurse') # 추가 전처리 필요\n",
    "pharm = load_dataset(\"sean0042/KorMedMCQA\", 'pharm') # 추가 전처리 필요"
   ]
  },
  {
   "cell_type": "code",
   "execution_count": 22,
   "id": "2081413a",
   "metadata": {},
   "outputs": [
    {
     "data": {
      "text/plain": [
       "DatasetDict({\n",
       "    train: Dataset({\n",
       "        features: ['subject', 'year', 'period', 'q_number', 'question', 'A', 'B', 'C', 'D', 'E', 'answer', 'cot'],\n",
       "        num_rows: 297\n",
       "    })\n",
       "    dev: Dataset({\n",
       "        features: ['subject', 'year', 'period', 'q_number', 'question', 'A', 'B', 'C', 'D', 'E', 'answer', 'cot'],\n",
       "        num_rows: 304\n",
       "    })\n",
       "    test: Dataset({\n",
       "        features: ['subject', 'year', 'period', 'q_number', 'question', 'A', 'B', 'C', 'D', 'E', 'answer', 'cot'],\n",
       "        num_rows: 811\n",
       "    })\n",
       "    fewshot: Dataset({\n",
       "        features: ['subject', 'year', 'period', 'q_number', 'question', 'A', 'B', 'C', 'D', 'E', 'answer', 'cot'],\n",
       "        num_rows: 5\n",
       "    })\n",
       "})"
      ]
     },
     "execution_count": 22,
     "metadata": {},
     "output_type": "execute_result"
    }
   ],
   "source": [
    "dentist"
   ]
  },
  {
   "cell_type": "code",
   "execution_count": 27,
   "id": "bec58ea8",
   "metadata": {},
   "outputs": [
    {
     "data": {
      "text/plain": [
       "DatasetDict({\n",
       "    train: Dataset({\n",
       "        features: ['subject', 'year', 'period', 'q_number', 'question', 'A', 'B', 'C', 'D', 'E', 'answer', 'cot'],\n",
       "        num_rows: 1412\n",
       "    })\n",
       "})"
      ]
     },
     "execution_count": 27,
     "metadata": {},
     "output_type": "execute_result"
    }
   ],
   "source": [
    "# dentist의 train, dev, test split을 합쳐서 하나의 train으로 통합\n",
    "dentist_merged = DatasetDict({\n",
    "    \"train\": concatenate_datasets([dentist[\"train\"], dentist[\"dev\"], dentist[\"test\"]])\n",
    "})\n",
    "doctor_merged = DatasetDict({\n",
    "    \"train\": concatenate_datasets([doctor[\"train\"], doctor[\"dev\"], doctor[\"test\"]])\n",
    "})\n",
    "nurse_merged = DatasetDict({\n",
    "    \"train\": concatenate_datasets([nurse[\"train\"], nurse[\"dev\"], nurse[\"test\"]])\n",
    "})\n",
    "pharm_merged = DatasetDict({\n",
    "    \"train\": concatenate_datasets([pharm[\"train\"], pharm[\"dev\"], pharm[\"test\"]])\n",
    "})\n",
    "\n",
    "dentist_merged"
   ]
  },
  {
   "cell_type": "code",
   "execution_count": 28,
   "id": "fc62b648",
   "metadata": {},
   "outputs": [
    {
     "data": {
      "application/vnd.jupyter.widget-view+json": {
       "model_id": "de85bfe76e8245cb9ba647f26e465a23",
       "version_major": 2,
       "version_minor": 0
      },
      "text/plain": [
       "Map:   0%|          | 0/1412 [00:00<?, ? examples/s]"
      ]
     },
     "metadata": {},
     "output_type": "display_data"
    },
    {
     "data": {
      "application/vnd.jupyter.widget-view+json": {
       "model_id": "de35ff5e04b04b7aa446d10bd4516d12",
       "version_major": 2,
       "version_minor": 0
      },
      "text/plain": [
       "Map:   0%|          | 0/2489 [00:00<?, ? examples/s]"
      ]
     },
     "metadata": {},
     "output_type": "display_data"
    },
    {
     "data": {
      "application/vnd.jupyter.widget-view+json": {
       "model_id": "3a762050385841f28fd282793f22c8d1",
       "version_major": 2,
       "version_minor": 0
      },
      "text/plain": [
       "Map:   0%|          | 0/1751 [00:00<?, ? examples/s]"
      ]
     },
     "metadata": {},
     "output_type": "display_data"
    },
    {
     "data": {
      "application/vnd.jupyter.widget-view+json": {
       "model_id": "7246c7002eb741e89e20d4a4669cad7f",
       "version_major": 2,
       "version_minor": 0
      },
      "text/plain": [
       "Map:   0%|          | 0/1817 [00:00<?, ? examples/s]"
      ]
     },
     "metadata": {},
     "output_type": "display_data"
    },
    {
     "data": {
      "text/plain": [
       "Dataset({\n",
       "    features: ['subject', 'year', 'period', 'q_number', 'question', 'A', 'B', 'C', 'D', 'E', 'answer', 'cot', 'category'],\n",
       "    num_rows: 7469\n",
       "})"
      ]
     },
     "execution_count": 28,
     "metadata": {},
     "output_type": "execute_result"
    }
   ],
   "source": [
    "from datasets import concatenate_datasets, Dataset\n",
    "\n",
    "# 각 데이터셋에 category 컬럼 추가\n",
    "def add_category_column(dataset, category):\n",
    "    return dataset[\"train\"].map(lambda x: {**x, \"category\": category})\n",
    "\n",
    "dentist_with_cat = add_category_column(dentist_merged, \"dentist\")\n",
    "doctor_with_cat = add_category_column(doctor_merged, \"doctor\")\n",
    "nurse_with_cat = add_category_column(nurse_merged, \"nurse\")\n",
    "pharm_with_cat = add_category_column(pharm_merged, \"pharm\")\n",
    "\n",
    "# 통합\n",
    "all_merged_with_category = concatenate_datasets([\n",
    "    dentist_with_cat,\n",
    "    doctor_with_cat,\n",
    "    nurse_with_cat,\n",
    "    pharm_with_cat\n",
    "])\n",
    "\n",
    "all_merged_with_category"
   ]
  },
  {
   "cell_type": "code",
   "execution_count": 34,
   "id": "506a7a88",
   "metadata": {},
   "outputs": [
    {
     "data": {
      "application/vnd.jupyter.widget-view+json": {
       "model_id": "3f9bb3495aba484baf7e06c6ad8c7b66",
       "version_major": 2,
       "version_minor": 0
      },
      "text/plain": [
       "Saving the dataset (0/1 shards):   0%|          | 0/7469 [00:00<?, ? examples/s]"
      ]
     },
     "metadata": {},
     "output_type": "display_data"
    }
   ],
   "source": [
    "all_merged_with_category.save_to_disk(\"/home/jungmin/workspace/project/rapa/data/qa_korMedMCQA_preprocessed\") ## QA / Dialogue 데이터셋 모두 저장"
   ]
  },
  {
   "cell_type": "code",
   "execution_count": null,
   "id": "950f790e",
   "metadata": {},
   "outputs": [],
   "source": []
  }
 ],
 "metadata": {
  "kernelspec": {
   "display_name": "rapa",
   "language": "python",
   "name": "python3"
  },
  "language_info": {
   "codemirror_mode": {
    "name": "ipython",
    "version": 3
   },
   "file_extension": ".py",
   "mimetype": "text/x-python",
   "name": "python",
   "nbconvert_exporter": "python",
   "pygments_lexer": "ipython3",
   "version": "3.12.2"
  }
 },
 "nbformat": 4,
 "nbformat_minor": 5
}
