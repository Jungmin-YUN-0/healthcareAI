{
 "cells": [
  {
   "cell_type": "code",
   "execution_count": 1,
   "metadata": {},
   "outputs": [
    {
     "name": "stderr",
     "output_type": "stream",
     "text": [
      "/home/woogoonkyu/anaconda3/envs/lora_null/lib/python3.12/site-packages/tqdm/auto.py:21: TqdmWarning: IProgress not found. Please update jupyter and ipywidgets. See https://ipywidgets.readthedocs.io/en/stable/user_install.html\n",
      "  from .autonotebook import tqdm as notebook_tqdm\n"
     ]
    }
   ],
   "source": [
    "import torch\n",
    "import torch.nn as nn\n",
    "import torch.distributed as dist\n",
    "\n",
    "\n",
    "import numpy as np\n",
    "import pandas as pd\n",
    "from pathlib import Path\n",
    "from tqdm import tqdm\n",
    "\n",
    "from datasets import load_dataset, load_from_disk\n",
    "from transformers import (\n",
    "    AutoConfig, AutoTokenizer, DataCollatorForLanguageModeling, \n",
    "    get_cosine_schedule_with_warmup\n",
    ")\n",
    "from sklearn.metrics import accuracy_score, precision_recall_fscore_support\n",
    "\n",
    "from torch.utils.data import DataLoader\n",
    "from torch.nn import CrossEntropyLoss\n",
    "from transformers import Adafactor\n",
    "import json\n",
    "import os\n",
    "import copy"
   ]
  },
  {
   "cell_type": "code",
   "execution_count": 2,
   "metadata": {},
   "outputs": [
    {
     "name": "stderr",
     "output_type": "stream",
     "text": [
      "2025-05-23 21:04:47,253\tINFO util.py:154 -- Missing packages: ['ipywidgets']. Run `pip install -U ipywidgets`, then restart the notebook server for rich notebook output.\n"
     ]
    }
   ],
   "source": [
    "from vllm import LLM, SamplingParams\n",
    "import pandas as pd\n",
    "import torch\n",
    "import torch._dynamo\n",
    "\n",
    "# torch._dynamo.config.suppress_errors = True"
   ]
  },
  {
   "cell_type": "code",
   "execution_count": 4,
   "metadata": {},
   "outputs": [
    {
     "name": "stderr",
     "output_type": "stream",
     "text": [
      "Downloading readme: 100%|██████████| 295/295 [00:00<00:00, 1.42MB/s]\n",
      "Downloading data: 100%|██████████| 4.67M/4.67M [00:01<00:00, 3.32MB/s]\n",
      "Downloading data: 100%|██████████| 3.03M/3.03M [00:01<00:00, 2.55MB/s]\n",
      "Generating train split: 100%|██████████| 3038/3038 [00:00<00:00, 31950.31 examples/s]\n"
     ]
    }
   ],
   "source": [
    "from datasets import load_dataset\n",
    "\n",
    "ds = load_dataset(\"squarelike/ko_medical_chat\")"
   ]
  },
  {
   "cell_type": "code",
   "execution_count": 5,
   "metadata": {},
   "outputs": [],
   "source": [
    "dataset_dict = ds"
   ]
  },
  {
   "cell_type": "code",
   "execution_count": 6,
   "metadata": {},
   "outputs": [],
   "source": [
    "from datasets import Dataset\n",
    "\n",
    "def extract_sft_pairs(dataset):\n",
    "    new_data = {\"input\": [], \"output\": [], \"all_dialogue\": []}\n",
    "\n",
    "    for example in dataset:\n",
    "        conv = example[\"conversations\"]  # 전체 메시지 리스트\n",
    "\n",
    "        # 전체 대화를 텍스트로 합쳐놓기\n",
    "        full_dialogue = \"\"\n",
    "        for turn in conv:\n",
    "            speaker = turn['from'].capitalize()\n",
    "            message = turn['value']\n",
    "            full_dialogue += f\"{speaker}: {message}\\n\"\n",
    "\n",
    "        for i in range(3, len(conv)):\n",
    "            try:\n",
    "                if (conv[i-3]['from'] == 'client' and\n",
    "                    conv[i-2]['from'] == 'doctor' and\n",
    "                    conv[i-1]['from'] == 'client' and\n",
    "                    conv[i]['from'] == 'doctor'):\n",
    "\n",
    "                    input_text = (\n",
    "                        f\"Client: {conv[i-3]['value']}\\n\"\n",
    "                        f\"Doctor: {conv[i-2]['value']}\\n\"\n",
    "                        f\"Client: {conv[i-1]['value']}\"\n",
    "                    )\n",
    "                    output_text = f\"Doctor: {conv[i]['value']}\"\n",
    "\n",
    "                    new_data[\"input\"].append(input_text)\n",
    "                    new_data[\"output\"].append(output_text)\n",
    "                    new_data[\"all_dialogue\"].append(full_dialogue.strip())  # 전체 대화도 추가\n",
    "            except (IndexError, KeyError):\n",
    "                continue\n",
    "\n",
    "    return Dataset.from_dict(new_data)\n"
   ]
  },
  {
   "cell_type": "code",
   "execution_count": 7,
   "metadata": {},
   "outputs": [
    {
     "name": "stdout",
     "output_type": "stream",
     "text": [
      "생성된 샘플 수: 11856\n",
      "{'input': 'Client: 안녕하세요, 의사님. 오늘 아침에 일어나서 의자에 앉아 있을 때 방 전체가 돌아가는 것 같은 느낌이 들었어요.\\nDoctor: 그런 증상이 있으셨군요. 이동할 때만 돌아가는 건가요?\\nClient: 네, 제가 움직이려고 하면 세상 전체가 돌아가는 것 같아요.', 'output': 'Doctor: 그렇군요. 그리고 오전에 화장실에 가실 때 불안정하게 걸으셨다고 하셨는데, 그때 어떤 증상이 있었나요?', 'all_dialogue': 'Client: 안녕하세요, 의사님. 오늘 아침에 일어나서 의자에 앉아 있을 때 방 전체가 돌아가는 것 같은 느낌이 들었어요.\\nDoctor: 그런 증상이 있으셨군요. 이동할 때만 돌아가는 건가요?\\nClient: 네, 제가 움직이려고 하면 세상 전체가 돌아가는 것 같아요.\\nDoctor: 그렇군요. 그리고 오전에 화장실에 가실 때 불안정하게 걸으셨다고 하셨는데, 그때 어떤 증상이 있었나요?\\nClient: 집중하기가 어려웠고, 메스꺼움을 느꼈어요. 구토를 시도했지만 나오지 않았어요.\\nDoctor: 그러셨군요. 그리고 복통도 있으셨다고 하셨는데, 어떤 종류의 복통이었나요?\\nClient: 그냥 일반적인 복부 불쾌감이었어요. 하지만 방금 화장실에 갔다 온 후에는 돌아가는 증상이 완화되었어요.\\nDoctor: 감사합니다. 이 증상은 어제부터 있었나요?\\nClient: 아니요, 오늘 아침 처음으로 느껴졌어요.\\nDoctor: 이해했습니다. 가장 가능성이 높은 원인은 양성돌발성 위치성 현훈(BPPV)입니다. 이 질환은 귀에서 발생하는 문제로 인해 발생하며, 몇 일 안에 스스로 호전됩니다. 베타히스틴 알약을 복용하면 증상이 완화될 것입니다. 전정 재활이나 적응 운동을 하면 증상의 재발을 예방할 수 있습니다. 이런 증상을 평가해 줄 이비인후과 전문의의 진료도 도\\nDoctor: 도움이 될 것입니다. 최선을 다하겠습니다. 어떻게 대처해야 할지 궁금하신가요?\\nClient: 그럼 어떻게 대처해야 할까요?\\nDoctor: 베타히스틴 알약을 정해진 용량과 시간에 복용하시면 도움이 될 것입니다. 또한 전정 재활 운동을 시도해보시는 것도 좋습니다. 이비인후과 전문의의 진료를 받아보는 것도 도움이 될 수 있습니다. 어떤 대처 방법을 선택하시겠습니까?\\nClient: 알겠습니다. 베타히스틴 알약과 전정 재활 운동을 시도해보겠습니다. 그리고 이비인후과 전문의의 진료도 받아보고 싶습니다.\\nDoctor: 좋습니다. 그렇게 하시면 증상의 호전을 기대할 수 있습니다. 이비인후과 전문의의 진료 일정을 예약하시고, 처방전을 받으시면 됩니다. 어떤 질문이 더 있으신가요?\\nClient: 아니요, 의사님. 감사합니다.'}\n"
     ]
    }
   ],
   "source": [
    "sft_dataset = extract_sft_pairs(dataset_dict['train'])\n",
    "\n",
    "print(f\"생성된 샘플 수: {len(sft_dataset)}\")\n",
    "if len(sft_dataset) > 0:\n",
    "    print(sft_dataset[0])\n"
   ]
  },
  {
   "cell_type": "code",
   "execution_count": 8,
   "metadata": {},
   "outputs": [
    {
     "name": "stderr",
     "output_type": "stream",
     "text": [
      "Saving the dataset (0/1 shards):   0%|          | 0/9484 [00:00<?, ? examples/s]"
     ]
    },
    {
     "name": "stderr",
     "output_type": "stream",
     "text": [
      "Saving the dataset (1/1 shards): 100%|██████████| 9484/9484 [00:00<00:00, 126050.95 examples/s]\n",
      "Saving the dataset (1/1 shards): 100%|██████████| 2372/2372 [00:00<00:00, 182897.44 examples/s]\n"
     ]
    }
   ],
   "source": [
    "from datasets import DatasetDict\n",
    "\n",
    "# 90% train, 10% test로 나누기\n",
    "split_dataset = sft_dataset.train_test_split(test_size=0.2, seed=42)\n",
    "\n",
    "# 결과 확인\n",
    "split_dataset.save_to_disk(\"Dialogue_data_all\")\n"
   ]
  },
  {
   "cell_type": "code",
   "execution_count": null,
   "metadata": {},
   "outputs": [],
   "source": [
    "e"
   ]
  },
  {
   "cell_type": "code",
   "execution_count": null,
   "metadata": {},
   "outputs": [
    {
     "name": "stdout",
     "output_type": "stream",
     "text": [
      "✅ 데이터셋 분할 및 저장 완료:\n",
      " - QA_train_dataset.csv\n",
      " - QA_test_dataset.csv\n"
     ]
    }
   ],
   "source": [
    "import pandas as pd\n",
    "from sklearn.model_selection import train_test_split\n",
    "\n",
    "# CSV 불러오기 # sean0042/KorMedMCQA 을 전처리\n",
    "df = pd.read_csv('merge_dataset.csv', encoding='utf-8-sig')\n",
    "\n",
    "# train/test 분할 (기본적으로 80/20 비율, 랜덤 시드 고정)\n",
    "train_df, test_df = train_test_split(df, test_size=0.2, random_state=42)\n",
    "\n",
    "# 파일 저장\n",
    "train_df.to_csv('QA_train_dataset.csv', index=False, encoding='utf-8-sig')\n",
    "test_df.to_csv('QA_test_dataset.csv', index=False, encoding='utf-8-sig')\n",
    "\n",
    "print(\"✅ 데이터셋 분할 및 저장 완료:\")\n",
    "print(\" - QA_train_dataset.csv\")\n",
    "print(\" - QA_test_dataset.csv\")\n"
   ]
  },
  {
   "cell_type": "code",
   "execution_count": 11,
   "metadata": {},
   "outputs": [
    {
     "data": {
      "text/html": [
       "<div>\n",
       "<style scoped>\n",
       "    .dataframe tbody tr th:only-of-type {\n",
       "        vertical-align: middle;\n",
       "    }\n",
       "\n",
       "    .dataframe tbody tr th {\n",
       "        vertical-align: top;\n",
       "    }\n",
       "\n",
       "    .dataframe thead th {\n",
       "        text-align: right;\n",
       "    }\n",
       "</style>\n",
       "<table border=\"1\" class=\"dataframe\">\n",
       "  <thead>\n",
       "    <tr style=\"text-align: right;\">\n",
       "      <th></th>\n",
       "      <th>type</th>\n",
       "      <th>input</th>\n",
       "      <th>output</th>\n",
       "      <th>A</th>\n",
       "      <th>B</th>\n",
       "      <th>C</th>\n",
       "      <th>D</th>\n",
       "      <th>E</th>\n",
       "    </tr>\n",
       "  </thead>\n",
       "  <tbody>\n",
       "    <tr>\n",
       "      <th>0</th>\n",
       "      <td>dentist</td>\n",
       "      <td>65세 여자가 혀의 통증으로 내원하였다. 혈액검사 결과 혈색소 수치가 10.5 g/...</td>\n",
       "      <td>Choice 3</td>\n",
       "      <td>항핵항체(ANA)</td>\n",
       "      <td>류마티스인자(RF)</td>\n",
       "      <td>비타민B12(cobalamin)</td>\n",
       "      <td>갑상샘자극호르몬(TSH)</td>\n",
       "      <td>알칼리인산분해효소(ALP)</td>\n",
       "    </tr>\n",
       "    <tr>\n",
       "      <th>1</th>\n",
       "      <td>dentist</td>\n",
       "      <td>55세 남자가 구취 때문에 내원하였다. 관능검사(organoleptic method...</td>\n",
       "      <td>Choice 5</td>\n",
       "      <td>cadaverine</td>\n",
       "      <td>propionic acid</td>\n",
       "      <td>dimethyl sulfide</td>\n",
       "      <td>hydrogen sulfide</td>\n",
       "      <td>methyl mercaptan</td>\n",
       "    </tr>\n",
       "    <tr>\n",
       "      <th>2</th>\n",
       "      <td>dentist</td>\n",
       "      <td>SGOT(AST), SGPT(ALT), 혈청빌리루빈, 젖산탈수소효소(LDH)가 증가...</td>\n",
       "      <td>Choice 1</td>\n",
       "      <td>지혈이 잘 안될 수 있으므로 혈액 응고시간을 확인한다.</td>\n",
       "      <td>감염성 심내막염의 위험이 있으므로 예방적 항생제 요법을 실시한다.</td>\n",
       "      <td>기회감염이 나타날 수 있으므로 항진균제나 항바이러스제를 사용한다.</td>\n",
       "      <td>스트레스와 불안을 감소시키기 위해 치료 전에 스테로이드를 투여한다.</td>\n",
       "      <td>오전 중에 약속하고, 완전히 누운 자세보다는 반 정도 누운 자세나 앉은 자세에서 치...</td>\n",
       "    </tr>\n",
       "    <tr>\n",
       "      <th>3</th>\n",
       "      <td>dentist</td>\n",
       "      <td>치과치료 시 에피네프린의 사용을 피해야 하는 질환은?</td>\n",
       "      <td>Choice 5</td>\n",
       "      <td>만성기관지염</td>\n",
       "      <td>부신기능부전</td>\n",
       "      <td>쇼그렌증후군</td>\n",
       "      <td>전신홍반루푸스</td>\n",
       "      <td>갑상샘기능항진증</td>\n",
       "    </tr>\n",
       "    <tr>\n",
       "      <th>4</th>\n",
       "      <td>dentist</td>\n",
       "      <td>37세 남자가 자동차 운전 중 후방 추돌 사고로 인해 목이 뒤로 꺾이면서 발생한 양...</td>\n",
       "      <td>Choice 4</td>\n",
       "      <td>격투손상(fight injury)</td>\n",
       "      <td>역과손상(runover injury)</td>\n",
       "      <td>전도손상(overturn injury)</td>\n",
       "      <td>편타손상(whiplash injury)</td>\n",
       "      <td>대측손상(contrecoup injury)</td>\n",
       "    </tr>\n",
       "    <tr>\n",
       "      <th>...</th>\n",
       "      <td>...</td>\n",
       "      <td>...</td>\n",
       "      <td>...</td>\n",
       "      <td>...</td>\n",
       "      <td>...</td>\n",
       "      <td>...</td>\n",
       "      <td>...</td>\n",
       "      <td>...</td>\n",
       "    </tr>\n",
       "    <tr>\n",
       "      <th>7484</th>\n",
       "      <td>nurse</td>\n",
       "      <td>옥시토신 유도분만 중인 40주 초산부가 통증을 호소하여 사정한 결과는 다음과 같다....</td>\n",
       "      <td>Choice 4</td>\n",
       "      <td>관장 시행</td>\n",
       "      <td>양막절개술 실시</td>\n",
       "      <td>자궁근이완제 투여</td>\n",
       "      <td>옥시토신 투여 중단</td>\n",
       "      <td>프로스타글란딘 질정 투여</td>\n",
       "    </tr>\n",
       "    <tr>\n",
       "      <th>7485</th>\n",
       "      <td>nurse</td>\n",
       "      <td>심부전 환자의 사정결과가 다음과 같을 때 우선적인 중재는?• 허약, 심한 피로, 야...</td>\n",
       "      <td>Choice 2</td>\n",
       "      <td>수분섭취 권장</td>\n",
       "      <td>산소포화도 측정</td>\n",
       "      <td>객담배양검사 실시</td>\n",
       "      <td>트렌델렌부르크자세 유지</td>\n",
       "      <td>복도 걷기와 같은 활동 격려</td>\n",
       "    </tr>\n",
       "    <tr>\n",
       "      <th>7486</th>\n",
       "      <td>nurse</td>\n",
       "      <td>호흡곤란으로 입원한 환자의 사정결과가 다음과 같을 때 우선적인 중재는?• 3개월 전...</td>\n",
       "      <td>Choice 1</td>\n",
       "      <td>산소 투여</td>\n",
       "      <td>배변완화제 투여</td>\n",
       "      <td>중등도 활동 격려</td>\n",
       "      <td>혈액배양검사 실시</td>\n",
       "      <td>비위관 영양 공급</td>\n",
       "    </tr>\n",
       "    <tr>\n",
       "      <th>7487</th>\n",
       "      <td>nurse</td>\n",
       "      <td>외래 진료를 받고 있는 환자의 사정결과가 다음과 같을 때 간호중재는? • 전신 소양...</td>\n",
       "      <td>Choice 5</td>\n",
       "      <td>침상안정을 한다.</td>\n",
       "      <td>철분제제를 투여한다.</td>\n",
       "      <td>치실을 사용하여 치아를 관리한다.</td>\n",
       "      <td>앉아있을 때 다리를 내리도록 한다.</td>\n",
       "      <td>수분을 하루 3 L 이상 섭취하도록 격려한다.</td>\n",
       "    </tr>\n",
       "    <tr>\n",
       "      <th>7488</th>\n",
       "      <td>nurse</td>\n",
       "      <td>패혈증 환자의 사정결과가 다음과 같을 때 우선적인 중재는?• 심한 호흡곤란, 의식수...</td>\n",
       "      <td>Choice 3</td>\n",
       "      <td>비위관 삽입</td>\n",
       "      <td>항응고제 투여</td>\n",
       "      <td>인공호흡기 적용</td>\n",
       "      <td>폐기능검사 실시</td>\n",
       "      <td>흉부물리요법 제공</td>\n",
       "    </tr>\n",
       "  </tbody>\n",
       "</table>\n",
       "<p>7489 rows × 8 columns</p>\n",
       "</div>"
      ],
      "text/plain": [
       "         type                                              input    output  \\\n",
       "0     dentist  65세 여자가 혀의 통증으로 내원하였다. 혈액검사 결과 혈색소 수치가 10.5 g/...  Choice 3   \n",
       "1     dentist  55세 남자가 구취 때문에 내원하였다. 관능검사(organoleptic method...  Choice 5   \n",
       "2     dentist  SGOT(AST), SGPT(ALT), 혈청빌리루빈, 젖산탈수소효소(LDH)가 증가...  Choice 1   \n",
       "3     dentist                      치과치료 시 에피네프린의 사용을 피해야 하는 질환은?  Choice 5   \n",
       "4     dentist  37세 남자가 자동차 운전 중 후방 추돌 사고로 인해 목이 뒤로 꺾이면서 발생한 양...  Choice 4   \n",
       "...       ...                                                ...       ...   \n",
       "7484    nurse  옥시토신 유도분만 중인 40주 초산부가 통증을 호소하여 사정한 결과는 다음과 같다....  Choice 4   \n",
       "7485    nurse  심부전 환자의 사정결과가 다음과 같을 때 우선적인 중재는?• 허약, 심한 피로, 야...  Choice 2   \n",
       "7486    nurse  호흡곤란으로 입원한 환자의 사정결과가 다음과 같을 때 우선적인 중재는?• 3개월 전...  Choice 1   \n",
       "7487    nurse  외래 진료를 받고 있는 환자의 사정결과가 다음과 같을 때 간호중재는? • 전신 소양...  Choice 5   \n",
       "7488    nurse  패혈증 환자의 사정결과가 다음과 같을 때 우선적인 중재는?• 심한 호흡곤란, 의식수...  Choice 3   \n",
       "\n",
       "                                   A                                     B  \\\n",
       "0                          항핵항체(ANA)                            류마티스인자(RF)   \n",
       "1                         cadaverine                        propionic acid   \n",
       "2     지혈이 잘 안될 수 있으므로 혈액 응고시간을 확인한다.  감염성 심내막염의 위험이 있으므로 예방적 항생제 요법을 실시한다.   \n",
       "3                             만성기관지염                                부신기능부전   \n",
       "4                 격투손상(fight injury)                  역과손상(runover injury)   \n",
       "...                              ...                                   ...   \n",
       "7484                           관장 시행                              양막절개술 실시   \n",
       "7485                         수분섭취 권장                              산소포화도 측정   \n",
       "7486                           산소 투여                              배변완화제 투여   \n",
       "7487                       침상안정을 한다.                           철분제제를 투여한다.   \n",
       "7488                          비위관 삽입                               항응고제 투여   \n",
       "\n",
       "                                         C  \\\n",
       "0                        비타민B12(cobalamin)   \n",
       "1                         dimethyl sulfide   \n",
       "2     기회감염이 나타날 수 있으므로 항진균제나 항바이러스제를 사용한다.   \n",
       "3                                   쇼그렌증후군   \n",
       "4                    전도손상(overturn injury)   \n",
       "...                                    ...   \n",
       "7484                             자궁근이완제 투여   \n",
       "7485                             객담배양검사 실시   \n",
       "7486                             중등도 활동 격려   \n",
       "7487                    치실을 사용하여 치아를 관리한다.   \n",
       "7488                              인공호흡기 적용   \n",
       "\n",
       "                                          D  \\\n",
       "0                             갑상샘자극호르몬(TSH)   \n",
       "1                          hydrogen sulfide   \n",
       "2     스트레스와 불안을 감소시키기 위해 치료 전에 스테로이드를 투여한다.   \n",
       "3                                   전신홍반루푸스   \n",
       "4                     편타손상(whiplash injury)   \n",
       "...                                     ...   \n",
       "7484                             옥시토신 투여 중단   \n",
       "7485                           트렌델렌부르크자세 유지   \n",
       "7486                              혈액배양검사 실시   \n",
       "7487                    앉아있을 때 다리를 내리도록 한다.   \n",
       "7488                               폐기능검사 실시   \n",
       "\n",
       "                                                      E  \n",
       "0                                        알칼리인산분해효소(ALP)  \n",
       "1                                      methyl mercaptan  \n",
       "2     오전 중에 약속하고, 완전히 누운 자세보다는 반 정도 누운 자세나 앉은 자세에서 치...  \n",
       "3                                              갑상샘기능항진증  \n",
       "4                               대측손상(contrecoup injury)  \n",
       "...                                                 ...  \n",
       "7484                                      프로스타글란딘 질정 투여  \n",
       "7485                                    복도 걷기와 같은 활동 격려  \n",
       "7486                                          비위관 영양 공급  \n",
       "7487                          수분을 하루 3 L 이상 섭취하도록 격려한다.  \n",
       "7488                                          흉부물리요법 제공  \n",
       "\n",
       "[7489 rows x 8 columns]"
      ]
     },
     "execution_count": 11,
     "metadata": {},
     "output_type": "execute_result"
    }
   ],
   "source": [
    "df"
   ]
  },
  {
   "cell_type": "code",
   "execution_count": 12,
   "metadata": {},
   "outputs": [
    {
     "name": "stderr",
     "output_type": "stream",
     "text": [
      "Saving the dataset (1/1 shards): 100%|██████████| 5991/5991 [00:00<00:00, 393634.87 examples/s]\n",
      "Saving the dataset (1/1 shards): 100%|██████████| 1498/1498 [00:00<00:00, 183656.35 examples/s]\n"
     ]
    }
   ],
   "source": [
    "# 예: 90% train, 10% test\n",
    "train_df, test_df = train_test_split(df[['input','output','A','B','C','D','E']], test_size=0.2, random_state=42)\n",
    "\n",
    "train_dataset = Dataset.from_pandas(train_df.reset_index(drop=True))\n",
    "test_dataset = Dataset.from_pandas(test_df.reset_index(drop=True))\n",
    "\n",
    "dataset_dict = DatasetDict({\n",
    "    \"train\": train_dataset,\n",
    "    \"test\": test_dataset\n",
    "})\n",
    "\n",
    "dataset_dict.save_to_disk(\"QA_dataset\")\n",
    "\n"
   ]
  },
  {
   "cell_type": "code",
   "execution_count": null,
   "metadata": {},
   "outputs": [],
   "source": []
  },
  {
   "cell_type": "code",
   "execution_count": null,
   "metadata": {},
   "outputs": [],
   "source": []
  },
  {
   "cell_type": "code",
   "execution_count": null,
   "metadata": {},
   "outputs": [],
   "source": []
  },
  {
   "cell_type": "code",
   "execution_count": null,
   "metadata": {},
   "outputs": [],
   "source": []
  },
  {
   "cell_type": "code",
   "execution_count": null,
   "metadata": {},
   "outputs": [],
   "source": []
  },
  {
   "cell_type": "code",
   "execution_count": null,
   "metadata": {},
   "outputs": [],
   "source": []
  },
  {
   "cell_type": "code",
   "execution_count": null,
   "metadata": {},
   "outputs": [],
   "source": []
  },
  {
   "cell_type": "code",
   "execution_count": null,
   "metadata": {},
   "outputs": [],
   "source": []
  },
  {
   "cell_type": "code",
   "execution_count": null,
   "metadata": {},
   "outputs": [],
   "source": []
  },
  {
   "cell_type": "code",
   "execution_count": null,
   "metadata": {},
   "outputs": [],
   "source": []
  },
  {
   "cell_type": "code",
   "execution_count": null,
   "metadata": {},
   "outputs": [],
   "source": []
  },
  {
   "cell_type": "code",
   "execution_count": null,
   "metadata": {},
   "outputs": [],
   "source": []
  },
  {
   "cell_type": "code",
   "execution_count": null,
   "metadata": {},
   "outputs": [],
   "source": []
  },
  {
   "cell_type": "code",
   "execution_count": null,
   "metadata": {},
   "outputs": [],
   "source": []
  },
  {
   "cell_type": "code",
   "execution_count": null,
   "metadata": {},
   "outputs": [],
   "source": []
  },
  {
   "cell_type": "code",
   "execution_count": null,
   "metadata": {},
   "outputs": [],
   "source": []
  },
  {
   "cell_type": "code",
   "execution_count": null,
   "metadata": {},
   "outputs": [],
   "source": []
  },
  {
   "cell_type": "code",
   "execution_count": null,
   "metadata": {},
   "outputs": [],
   "source": []
  },
  {
   "cell_type": "code",
   "execution_count": null,
   "metadata": {},
   "outputs": [],
   "source": []
  },
  {
   "cell_type": "code",
   "execution_count": null,
   "metadata": {},
   "outputs": [],
   "source": []
  },
  {
   "cell_type": "code",
   "execution_count": null,
   "metadata": {},
   "outputs": [],
   "source": []
  },
  {
   "cell_type": "code",
   "execution_count": null,
   "metadata": {},
   "outputs": [],
   "source": []
  },
  {
   "cell_type": "code",
   "execution_count": null,
   "metadata": {},
   "outputs": [],
   "source": []
  },
  {
   "cell_type": "code",
   "execution_count": null,
   "metadata": {},
   "outputs": [],
   "source": []
  },
  {
   "cell_type": "code",
   "execution_count": null,
   "metadata": {},
   "outputs": [],
   "source": []
  }
 ],
 "metadata": {
  "kernelspec": {
   "display_name": "lora_null",
   "language": "python",
   "name": "python3"
  },
  "language_info": {
   "codemirror_mode": {
    "name": "ipython",
    "version": 3
   },
   "file_extension": ".py",
   "mimetype": "text/x-python",
   "name": "python",
   "nbconvert_exporter": "python",
   "pygments_lexer": "ipython3",
   "version": "3.12.3"
  }
 },
 "nbformat": 4,
 "nbformat_minor": 2
}
