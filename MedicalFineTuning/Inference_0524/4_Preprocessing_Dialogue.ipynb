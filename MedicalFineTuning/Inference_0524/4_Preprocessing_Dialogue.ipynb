{
 "cells": [
  {
   "cell_type": "markdown",
   "id": "dc276235",
   "metadata": {
    "vscode": {
     "languageId": "plaintext"
    }
   },
   "source": [
    "# Final dialogue dataset 생성\n",
    "\n",
    "- Total_dialogue : 전체 dialogue (squarelike/ko_medical_chat)\n",
    "- 대화 히스토리 : 3턴만을 자름 (Client - Doctor - Client)\n",
    "- Golden_Answer : 3턴 후에 Doctor의 답변\n",
    "- Prediction : 모델의 예측한 Doctor의 답변"
   ]
  },
  {
   "cell_type": "code",
   "execution_count": null,
   "id": "c776b96d",
   "metadata": {
    "vscode": {
     "languageId": "plaintext"
    }
   },
   "outputs": [],
   "source": [
    "df_dialogue = load_from_disk('cleaned_dataset_with_answer_tag_new')\n",
    "df_all = load_from_disk('Dialogue_data_all') # squarelike/ko_medical_chat \n",
    "\n",
    "for i,j in zip([i.replace('Doctor:','').strip() for i in df_all['test']['output']], df_dialogue['test']['output']):\n",
    "    if i != j:\n",
    "        print('1111') # 길이 짧은 것에 맞추어 동일!"
   ]
  },
  {
   "cell_type": "code",
   "execution_count": null,
   "id": "d53ccf39",
   "metadata": {
    "vscode": {
     "languageId": "plaintext"
    }
   },
   "outputs": [],
   "source": [
    "df_qwen = pd.DataFrame([df_all['test']['all_dialogue'], question, y_true_real, ffff]).T\n",
    "df_qwen.columns = ['Total_dialouge', '대화히스토리_3턴', 'Golden_Answer', 'Prediction']\n",
    "df_qwen"
   ]
  },
  {
   "cell_type": "code",
   "execution_count": null,
   "id": "8a66cbbb",
   "metadata": {
    "vscode": {
     "languageId": "plaintext"
    }
   },
   "outputs": [],
   "source": [
    "df_qwen.to_csv('openbiollm_chatvector_blocking_new_generation_total.csv', encoding = 'utf-8-sig', index = 0 )"
   ]
  },
  {
   "cell_type": "code",
   "execution_count": null,
   "id": "f5474101",
   "metadata": {
    "vscode": {
     "languageId": "plaintext"
    }
   },
   "outputs": [],
   "source": [
    "df_qwen.head()"
   ]
  },
  {
   "cell_type": "code",
   "execution_count": null,
   "id": "c4191382",
   "metadata": {
    "vscode": {
     "languageId": "plaintext"
    }
   },
   "outputs": [],
   "source": []
  },
  {
   "cell_type": "code",
   "execution_count": null,
   "id": "2705aad1",
   "metadata": {
    "vscode": {
     "languageId": "plaintext"
    }
   },
   "outputs": [],
   "source": []
  },
  {
   "cell_type": "code",
   "execution_count": null,
   "id": "30c3ac28",
   "metadata": {
    "vscode": {
     "languageId": "plaintext"
    }
   },
   "outputs": [],
   "source": []
  },
  {
   "cell_type": "code",
   "execution_count": null,
   "id": "c218dba6",
   "metadata": {
    "vscode": {
     "languageId": "plaintext"
    }
   },
   "outputs": [],
   "source": []
  },
  {
   "cell_type": "code",
   "execution_count": null,
   "id": "b4508aec",
   "metadata": {
    "vscode": {
     "languageId": "plaintext"
    }
   },
   "outputs": [],
   "source": []
  },
  {
   "cell_type": "code",
   "execution_count": null,
   "id": "5c2aebc4",
   "metadata": {
    "vscode": {
     "languageId": "plaintext"
    }
   },
   "outputs": [],
   "source": []
  },
  {
   "cell_type": "code",
   "execution_count": null,
   "id": "a0483e59",
   "metadata": {
    "vscode": {
     "languageId": "plaintext"
    }
   },
   "outputs": [],
   "source": []
  }
 ],
 "metadata": {
  "language_info": {
   "name": "python"
  }
 },
 "nbformat": 4,
 "nbformat_minor": 5
}
